{
 "cells": [
  {
   "cell_type": "code",
   "execution_count": 6,
   "metadata": {},
   "outputs": [],
   "source": [
    "import numpy as np\n",
    "import matplotlib.pyplot as plt\n",
    "data = np.loadtxt('abundances.txt')"
   ]
  },
  {
   "cell_type": "code",
   "execution_count": 7,
   "metadata": {},
   "outputs": [
    {
     "name": "stdout",
     "output_type": "stream",
     "text": [
      "Rescaling mass fraction 0\n",
      "Rescaling mass fraction 1\n",
      "Rescaling mass fraction 2\n",
      "Rescaling mass fraction 3\n",
      "Rescaling mass fraction 4\n",
      "Rescaling mass fraction 5\n",
      "Rescaling mass fraction 6\n",
      "Rescaling mass fraction 7\n",
      "Rescaling mass fraction 8\n",
      "Rescaling mass fraction 9\n",
      "Rescaling mass fraction 10\n",
      "Rescaling mass fraction 11\n",
      "Rescaling mass fraction 12\n",
      "Rescaling mass fraction 13\n",
      "Rescaling mass fraction 14\n",
      "Rescaling mass fraction 15\n",
      "Rescaling mass fraction 16\n",
      "Rescaling mass fraction 17\n",
      "Rescaling mass fraction 18\n",
      "Rescaling mass fraction 19\n",
      "Rescaling mass fraction 20\n",
      "Rescaling mass fraction 21\n",
      "Rescaling mass fraction 22\n",
      "Rescaling mass fraction 23\n",
      "Rescaling mass fraction 24\n",
      "Rescaling mass fraction 25\n",
      "Rescaling mass fraction 26\n",
      "Rescaling mass fraction 28\n",
      "Rescaling mass fraction 29\n",
      "Maximum mass fraction: 1.0\n",
      "Minimum mass fraction: -3.94697486e-44\n",
      "Check sum of mass fractions 0.9999999999999996 1.0000000000000004\n"
     ]
    }
   ],
   "source": [
    "# This script will rescale the mass fraction of Ni56 in abundances.txt\n",
    "# by a prescribed scale factor and cap X_Ni at one. The *other* mass fractions\n",
    "# will be rescaled to ensure the mass fractions sum up to one.\n",
    "\n",
    "# X_ni -> min (X_ni * scale_factor, 1.0)\n",
    "# X_i -> X_i * (1-X_ni,new) / sum (X_{i != Ni} X_i) \n",
    "\n",
    "model_indices = data[:,0]\n",
    "scale_factor = 2.0\n",
    "data[:,28] = np.minimum(data[:,28]*scale_factor,1.0)\n",
    "x_no_ni = np.sum(data[:,1:],1) - data[:,28]\n",
    "\n",
    "x_no_ni_target = 1.0 - data[:,28]\n",
    "\n",
    "nn = len(data[0,1:]) # number of species\n",
    "\n",
    "for i in range(nn):\n",
    "    if (i+1 != 28): # rescale only species other than 56Ni\n",
    "        print('Rescaling mass fraction',i)\n",
    "        data[:,i+1] = data[:,i+1] * x_no_ni_target / x_no_ni\n",
    "\n",
    "print('Maximum mass fraction:',np.max(data[:,1:]))\n",
    "print('Minimum mass fraction:',np.min(data[:,1:]))\n",
    "print('Check sum of mass fractions',np.min(np.sum(data[:,1:],1)),np.max(np.sum(data[:,1:],1)))\n",
    "\n",
    "np.savetxt('abundances_new_massfrac_scaleothers_fac2.txt', data, fmt='%d %.8e %.8e %.8e %.8e %.8e %.8e %.8e %.8e %.8e %.8e %.8e %.8e %.8e %.8e %.8e %.8e %.8e %.8e %.8e %.8e %.8e %.8e %.8e %.8e %.8e %.8e %.8e %.8e %.8e %.8e')"
   ]
  },
  {
   "cell_type": "code",
   "execution_count": 3,
   "metadata": {},
   "outputs": [
    {
     "name": "stdout",
     "output_type": "stream",
     "text": [
      "Rescaling mass fraction 0\n",
      "Rescaling mass fraction 1\n",
      "Rescaling mass fraction 2\n",
      "Rescaling mass fraction 3\n",
      "Rescaling mass fraction 4\n",
      "Rescaling mass fraction 5\n",
      "Rescaling mass fraction 6\n",
      "Rescaling mass fraction 7\n",
      "Rescaling mass fraction 8\n",
      "Rescaling mass fraction 9\n",
      "Rescaling mass fraction 10\n",
      "Rescaling mass fraction 11\n",
      "Rescaling mass fraction 12\n",
      "Rescaling mass fraction 13\n",
      "Rescaling mass fraction 14\n",
      "Rescaling mass fraction 15\n",
      "Rescaling mass fraction 16\n",
      "Rescaling mass fraction 17\n",
      "Rescaling mass fraction 18\n",
      "Rescaling mass fraction 19\n",
      "Rescaling mass fraction 20\n",
      "Rescaling mass fraction 21\n",
      "Rescaling mass fraction 22\n",
      "Rescaling mass fraction 23\n",
      "Rescaling mass fraction 24\n",
      "Rescaling mass fraction 25\n",
      "Rescaling mass fraction 26\n",
      "Rescaling mass fraction 27\n",
      "Rescaling mass fraction 28\n",
      "Rescaling mass fraction 29\n",
      "Maximum mass fraction: 1.0\n",
      "Minimum mass fraction: -3.946974861207774e-44\n",
      "Check sum of mass fractions 0.9999999999999996 1.0000000000000004\n"
     ]
    }
   ],
   "source": [
    "# This script will rescale the mass fraction of Ni56 in abundances.txt\n",
    "# by a prescribed scale factor, and then renormalise the mass fractions\n",
    "# to sum up to one. The overall mass of Ni56 will increase by less than\n",
    "# the scale factor\n",
    "\n",
    "# X_ni -> X_ni * scale_factor\n",
    "# X_i -> X_i / sum_i X_i\n",
    "\n",
    "data = np.loadtxt('abundances.txt')\n",
    "\n",
    "model_indices = data[:,0]\n",
    "# abund = data[:,1:]\n",
    "# scale_factor = 1./np.max(abund[:,27])\n",
    "scale_factor = 2.0\n",
    "data[:,28] = data[:,28]*scale_factor\n",
    "x_sum = np.sum(data[:,1:],1)\n",
    "\n",
    "nn = len(data[0,1:]) # number of species\n",
    "\n",
    "for i in range(nn):\n",
    "    print('Rescaling mass fraction',i)\n",
    "    data[:,i+1] = data[:,i+1] / x_sum\n",
    "\n",
    "print('Maximum mass fraction:',np.max(data[:,1:]))\n",
    "print('Minimum mass fraction:',np.min(data[:,1:]))\n",
    "print('Check sum of mass fractions',np.min(np.sum(data[:,1:],1)),np.max(np.sum(data[:,1:],1)))\n",
    " \n",
    "np.savetxt('abundances_new_massfrac_renormall_fac2.txt', data, fmt='%d %.8e %.8e %.8e %.8e %.8e %.8e %.8e %.8e %.8e %.8e %.8e %.8e %.8e %.8e %.8e %.8e %.8e %.8e %.8e %.8e %.8e %.8e %.8e %.8e %.8e %.8e %.8e %.8e %.8e %.8e')"
   ]
  },
  {
   "cell_type": "code",
   "execution_count": null,
   "metadata": {},
   "outputs": [],
   "source": [
    "model[1]"
   ]
  },
  {
   "cell_type": "code",
   "execution_count": 8,
   "metadata": {},
   "outputs": [
    {
     "data": {
      "text/plain": [
       "0.12584269105552245"
      ]
     },
     "execution_count": 8,
     "metadata": {},
     "output_type": "execute_result"
    }
   ],
   "source": [
    "np.sum(data[:,24])"
   ]
  },
  {
   "cell_type": "code",
   "execution_count": 9,
   "metadata": {},
   "outputs": [
    {
     "data": {
      "text/plain": [
       "(1000000, 31)"
      ]
     },
     "execution_count": 9,
     "metadata": {},
     "output_type": "execute_result"
    }
   ],
   "source": [
    "np.shape(data)"
   ]
  },
  {
   "cell_type": "code",
   "execution_count": null,
   "metadata": {},
   "outputs": [],
   "source": []
  }
 ],
 "metadata": {
  "kernelspec": {
   "display_name": "Python 3",
   "language": "python",
   "name": "python3"
  },
  "language_info": {
   "codemirror_mode": {
    "name": "ipython",
    "version": 3
   },
   "file_extension": ".py",
   "mimetype": "text/x-python",
   "name": "python",
   "nbconvert_exporter": "python",
   "pygments_lexer": "ipython3",
   "version": "3.8.5"
  }
 },
 "nbformat": 4,
 "nbformat_minor": 4
}
