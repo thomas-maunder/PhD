{
 "cells": [
  {
   "cell_type": "code",
   "execution_count": 51,
   "id": "779255a7",
   "metadata": {},
   "outputs": [],
   "source": [
    "import numpy as np\n",
    "\n",
    "new = np.loadtxt(\"abundances_new_massfrac_scaleothers_fac2.txt\")\n",
    "old = np.loadtxt(\"abundances.txt\")"
   ]
  },
  {
   "cell_type": "code",
   "execution_count": 52,
   "id": "71a0aa78",
   "metadata": {},
   "outputs": [],
   "source": [
    "def rescale(array_to_scale, old_array, new_array, orig_index, new_index):\n",
    "    old_array[np.where(old_array==0)] = 1.\n",
    "    scale_factor = new_array[:, orig_index] / old_array[:, orig_index]\n",
    "    scale_factor[np.where(np.isnan(scale_factor) == True)] = 1\n",
    "    array_to_scale[:, new_index] = array_to_scale[:, new_index] * scale_factor\n",
    "    return array_to_scale"
   ]
  },
  {
   "cell_type": "code",
   "execution_count": 53,
   "id": "5b9f017c",
   "metadata": {},
   "outputs": [],
   "source": [
    "header = np.genfromtxt('model.txt', max_rows=3)\n",
    "model = np.genfromtxt(\"model.txt\", skip_header=3).reshape(1000000, 10)\n",
    "model[:,5]=np.sum(new[:,20:],1)\n",
    "#model = rescale(model, old, new, 30, 4)\n",
    "model = rescale(model, old, new, 28, 6)\n",
    "model = rescale(model, old, new, 27, 7)\n",
    "model = rescale(model, old, new, 26, 8)\n",
    "model = rescale(model, old, new, 24, 9)"
   ]
  },
  {
   "cell_type": "code",
   "execution_count": 54,
   "id": "7b1d5d0a",
   "metadata": {},
   "outputs": [],
   "source": [
    "with open('model_scaleothers_fac2.txt', 'w') as f:\n",
    "    f.write(\"%d \\n\" % (header[0]))\n",
    "    f.write(\"%16.8e \\n\" % (header[1]))\n",
    "    f.write(\"%16.8e \\n\" % (header[2]))\n",
    "    for line in model:\n",
    "        f.write(\"%d %16.8e %16.8e %16.8e %16.8e \\n %16.8e %16.8e %16.8e %16.8e %16.8e \\n\" % (line[0], line[1], line[2], line[3], line[4], line[5], line[6], line[7], line[8], line[9]))"
   ]
  },
  {
   "cell_type": "code",
   "execution_count": null,
   "id": "45f1b2c2",
   "metadata": {},
   "outputs": [],
   "source": [
    "# f = open('model_scaleothers_fac2.txt', 'a')\n",
    "# f.write(\"%d \\n\" % (header[0]))\n",
    "# f.write(\"%16.8e \\n\" % (header[1]))\n",
    "# f.write(\"%16.8e \\n\" % (header[2]))\n",
    "# f.close()\n",
    "# np.savetxt(f, model, fmt=\"%d %16.8e %16.8e %16.8e %16.8e \\n %16.8e %16.8e %16.8e %16.8e %16.8e\")"
   ]
  },
  {
   "cell_type": "code",
   "execution_count": 44,
   "id": "11127c42",
   "metadata": {},
   "outputs": [
    {
     "data": {
      "text/plain": [
       "0.1547309149593563"
      ]
     },
     "execution_count": 44,
     "metadata": {},
     "output_type": "execute_result"
    }
   ],
   "source": [
    "np.sum(model[:,8])"
   ]
  },
  {
   "cell_type": "code",
   "execution_count": 20,
   "id": "ca61a3ba",
   "metadata": {},
   "outputs": [
    {
     "data": {
      "text/plain": [
       "(1000000, 10)"
      ]
     },
     "execution_count": 20,
     "metadata": {},
     "output_type": "execute_result"
    }
   ],
   "source": [
    "model.shape"
   ]
  },
  {
   "cell_type": "code",
   "execution_count": 21,
   "id": "f0f8dd25-2c83-4255-9194-89633b768460",
   "metadata": {},
   "outputs": [
    {
     "data": {
      "text/plain": [
       "633092.2476675913"
      ]
     },
     "execution_count": 21,
     "metadata": {},
     "output_type": "execute_result"
    }
   ],
   "source": [
    "np.sum(old[:,24])"
   ]
  },
  {
   "cell_type": "code",
   "execution_count": 22,
   "id": "c9b258cf-a5b3-4e6c-b70f-668e424e865b",
   "metadata": {},
   "outputs": [
    {
     "data": {
      "text/plain": [
       "0.19341364368964584"
      ]
     },
     "execution_count": 22,
     "metadata": {},
     "output_type": "execute_result"
    }
   ],
   "source": [
    "np.sum(new[:,24])"
   ]
  },
  {
   "cell_type": "code",
   "execution_count": 23,
   "id": "0a3191f3-cd98-4275-969a-253117ce9716",
   "metadata": {},
   "outputs": [
    {
     "name": "stdout",
     "output_type": "stream",
     "text": [
      "[1. 1. 1. ... 1. 1. 1.]\n"
     ]
    }
   ],
   "source": [
    "print(old[:,24])"
   ]
  },
  {
   "cell_type": "code",
   "execution_count": 24,
   "id": "ea61703c-47dc-4020-8589-047768dd5c63",
   "metadata": {},
   "outputs": [
    {
     "name": "stdout",
     "output_type": "stream",
     "text": [
      "[0. 0. 0. ... 0. 0. 0.]\n"
     ]
    }
   ],
   "source": [
    "print(new[:,24])"
   ]
  },
  {
   "cell_type": "code",
   "execution_count": 30,
   "id": "56f4c99f-e8ee-438e-be68-a06cce3680a5",
   "metadata": {},
   "outputs": [],
   "source": [
    "model_old = np.genfromtxt(\"model.txt\", skip_header=3).reshape(1000000, 10)"
   ]
  },
  {
   "cell_type": "code",
   "execution_count": 50,
   "id": "7bf18361-8c19-4f61-9ae9-b2c546c83cd8",
   "metadata": {},
   "outputs": [
    {
     "name": "stdout",
     "output_type": "stream",
     "text": [
      "0.24766759134947106 0.19341364368964584\n"
     ]
    }
   ],
   "source": [
    "print(np.sum(model_old[:,9]),np.sum(model[:,9]))"
   ]
  },
  {
   "cell_type": "code",
   "execution_count": 39,
   "id": "b477ae71-accf-42f2-a5d1-23ee08df7e30",
   "metadata": {},
   "outputs": [
    {
     "data": {
      "text/plain": [
       "array([6.04714128e-17, 6.04714128e-17, 6.04714128e-17, ...,\n",
       "       6.04714128e-17, 6.04714128e-17, 6.04714128e-17])"
      ]
     },
     "execution_count": 39,
     "metadata": {},
     "output_type": "execute_result"
    }
   ],
   "source": [
    "model_old[:,4]"
   ]
  },
  {
   "cell_type": "code",
   "execution_count": 41,
   "id": "a7e17ad3-d76c-43cc-922f-95197a1835ce",
   "metadata": {},
   "outputs": [
    {
     "data": {
      "text/plain": [
       "(1000000, 10)"
      ]
     },
     "execution_count": 41,
     "metadata": {},
     "output_type": "execute_result"
    }
   ],
   "source": [
    "np.shape(model_old)"
   ]
  },
  {
   "cell_type": "code",
   "execution_count": null,
   "id": "c285f9ab-0f1c-41dd-9770-0308491958c2",
   "metadata": {},
   "outputs": [],
   "source": []
  }
 ],
 "metadata": {
  "kernelspec": {
   "display_name": "Python 3",
   "language": "python",
   "name": "python3"
  },
  "language_info": {
   "codemirror_mode": {
    "name": "ipython",
    "version": 3
   },
   "file_extension": ".py",
   "mimetype": "text/x-python",
   "name": "python",
   "nbconvert_exporter": "python",
   "pygments_lexer": "ipython3",
   "version": "3.8.5"
  }
 },
 "nbformat": 4,
 "nbformat_minor": 5
}
