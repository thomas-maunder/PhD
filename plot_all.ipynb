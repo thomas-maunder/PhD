{
 "cells": [
  {
   "cell_type": "code",
   "execution_count": 3,
   "id": "3c77635d-7b53-4017-86a4-8305e79fba62",
   "metadata": {},
   "outputs": [],
   "source": [
    "# %matplotlib widget\n",
    "import os\n",
    "\n",
    "import matplotlib.pyplot as plt\n",
    "import numpy as np"
   ]
  },
  {
   "cell_type": "code",
   "execution_count": 4,
   "id": "256e905b-ed13-4b0d-8abb-07f8ba5c9ebd",
   "metadata": {},
   "outputs": [],
   "source": [
    "def load_data(searchdir):\n",
    "    res = []\n",
    "    files = []\n",
    "    for file in os.listdir(searchdir):\n",
    "        files.append(searchdir + file)\n",
    "    fs = sorted(files)\n",
    "    # print(len(fs))\n",
    "    for f in fs:\n",
    "        if \".txt\" not in f:\n",
    "            None\n",
    "        else:\n",
    "            res.append(np.loadtxt(f, skiprows=1, delimiter=\",\"))\n",
    "    return res, fs"
   ]
  },
  {
   "cell_type": "code",
   "execution_count": 5,
   "id": "8bffbea7-8ea2-4f1b-9c4c-f05d3fb24840",
   "metadata": {},
   "outputs": [],
   "source": [
    "ions = ['He_I', 'He_II', 'He_III', 'C_I', 'C_II', 'C_III', 'N_I', 'N_II', 'N_III', 'O_I', 'O_II', 'O_III', 'F_I', 'F_II', 'F_III', 'Ne_I', 'Ne_II', 'Ne_III', 'Na_I', 'Na_II', 'Na_III', 'Mg_I', 'Mg_II', 'Mg_III', 'Al_I', 'Al_II', 'Al_III', 'Si_I', 'Si_II', 'Si_III', 'P_I', 'P_II', 'P_III', 'S_I', 'S_II', 'S_III', 'Cl_I', 'Cl_II', 'Cl_III', 'Ar_I', 'Ar_II', 'Ar_III', 'K_I', 'K_II', 'K_III', 'Ca_I', 'Ca_II', 'Ca_III', 'Sc_I', 'Sc_II', 'Sc_III', 'Ti_I', 'Ti_II', 'Ti_III', 'V_I', 'V_II', 'V_III', 'Cr_I', 'Cr_II', 'Cr_III', 'Mn_I', 'Mn_II', 'Mn_III', 'Fe_I', 'Fe_II', 'Fe_III', 'Co_I', 'Co_II', 'Co_III', 'Ni_I', 'Ni_II', 'Ni_III', 'Cu_I', 'Cu_II', 'Cu_III', 'Zn_I', 'Zn_II', 'Zn_III']"
   ]
  },
  {
   "cell_type": "code",
   "execution_count": 20,
   "id": "df500a0b-5a95-46b6-bcf1-34fa51affcda",
   "metadata": {},
   "outputs": [
    {
     "name": "stdout",
     "output_type": "stream",
     "text": [
      "DONE\n"
     ]
    },
    {
     "data": {
      "image/png": "[encoded data removed]",
      "text/plain": [
       "<Figure size 432x288 with 2 Axes>"
      ]
     },
     "metadata": {
      "needs_background": "light"
     },
     "output_type": "display_data"
    }
   ],
   "source": [
    "for i in ions:\n",
    "    # print(i)\n",
    "    spec = i + \"/\"\n",
    "    d, f = load_data(spec)\n",
    "    d = np.array(d)\n",
    "    if np.max(d[:, :, 1]) == 0:\n",
    "        exp = 0.0\n",
    "    else:\n",
    "        exp = np.floor(np.log10(1 / np.max(d[:, :, 1]))) + 1\n",
    "    scale = 10**exp\n",
    "    if plt.get_fignums():\n",
    "        plt.clf()\n",
    "    # scale = 1\n",
    "    times = np.linspace(-14, int(f[-1][-13:-10]) - 14, len(d[:, 0, 0]))\n",
    "    wlengths = d[0, :, 0]\n",
    "    T, L = np.meshgrid(times, wlengths)\n",
    "    # plt.xlim(2,60)\n",
    "    plt.ylim(2000, 11000)\n",
    "    plt.ylabel(r\"Wavelength [$\\AA$]\")\n",
    "    plt.xlabel(\"Time post-peak light [days]\")\n",
    "    plt.xticks([-10, 0, 10, 20, 30, 40, 50, 60, 70, 80])\n",
    "    plt.contourf(T, L, d[:, :, 1].T * scale, 100, cmap=\"inferno\")\n",
    "    # total = d[:, :, 3].T + d[:, :, 1].T\n",
    "    # total = np.where(total == 0.0, 1e10, total)\n",
    "    # quantity = d[:, :, 1].T * scale / total\n",
    "    # quantity = np.where(np.isnan(quantity)==True, 0.0, quantity)\n",
    "    # plt.contourf(T, L, quantity, 100, vmin=0, vmax=1, cmap=\"inferno\")\n",
    "    cbar = plt.colorbar()\n",
    "    cbar.set_label(\n",
    "        r\"{species} F$_{l}$ at 1 Mpc [10$^{power}$ erg/cm$^2$/$\\AA$]\".format(\n",
    "            species=spec[:-1].replace(\"_\", \" \"), l=\"{\\lambda}\", power={-int(exp)}\n",
    "        )\n",
    "    )\n",
    "    plt.plot([0, 0], [2000, 11000], color=\"gray\", linestyle=\"dotted\")\n",
    "    plt.tight_layout()\n",
    "    plt.savefig(\"spectrogram_{species}.eps\".format(species=spec[:-1]))\n",
    "    plt.savefig(\"spectrogram_{species}.pdf\".format(species=spec[:-1]))\n",
    "    plt.savefig(\"spectrogram_{species}.png\".format(species=spec[:-1]))\n",
    "print(\"DONE\")\n",
    "    # plt.show()"
   ]
  },
  {
   "cell_type": "code",
   "execution_count": null,
   "id": "8f902dde-8a51-4a7e-b5a0-93bcae22b350",
   "metadata": {},
   "outputs": [],
   "source": []
  }
 ],
 "metadata": {
  "kernelspec": {
   "display_name": "Python 3",
   "language": "python",
   "name": "python3"
  },
  "language_info": {
   "codemirror_mode": {
    "name": "ipython",
    "version": 3
   },
   "file_extension": ".py",
   "mimetype": "text/x-python",
   "name": "python",
   "nbconvert_exporter": "python",
   "pygments_lexer": "ipython3",
   "version": "3.8.5"
  }
 },
 "nbformat": 4,
 "nbformat_minor": 5
}
