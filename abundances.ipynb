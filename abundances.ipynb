{
 "cells": [
  {
   "cell_type": "code",
   "execution_count": 1,
   "id": "228b9037-6845-4fe2-84e8-76617b210875",
   "metadata": {},
   "outputs": [],
   "source": [
    "import numpy as np\n",
    "import matplotlib.pyplot as plt\n",
    "from astropy import constants as const\n",
    "from abusets import SolAbu as S\n",
    "from prettytable import PrettyTable as pt"
   ]
  },
  {
   "cell_type": "code",
   "execution_count": 2,
   "id": "7d6f4ea1-3552-426c-af67-4a2f3be2c298",
   "metadata": {},
   "outputs": [],
   "source": [
    "abund = np.loadtxt('abundances.txt')\n",
    "model = np.loadtxt('model.txt', skiprows=3)\n",
    "model = model.reshape(-1,10)\n",
    "den = model[:,4]"
   ]
  },
  {
   "cell_type": "code",
   "execution_count": 3,
   "id": "3bdfc643-7c6e-45f9-8f80-ad9152a6453e",
   "metadata": {},
   "outputs": [
    {
     "name": "stderr",
     "output_type": "stream",
     "text": [
      " [SolAbu] using default path /home/user1/kepler/local_data\n",
      " [SolAbu] Loading /home/user1/python/data/solas09.dat (7.1 kiB)\n",
      " [SolAbu] 287 isotopes loaded in 56 ms.\n"
     ]
    },
    {
     "name": "stdout",
     "output_type": "stream",
     "text": [
      " [SolAbu] Returning set with 287 isotopes.\n"
     ]
    },
    {
     "data": {
      "text/plain": [
       "0.0025417173237086595"
      ]
     },
     "execution_count": 3,
     "metadata": {},
     "output_type": "execute_result"
    }
   ],
   "source": [
    "s = S('solas09.dat')\n",
    "s.X('C')"
   ]
  },
  {
   "cell_type": "code",
   "execution_count": 28,
   "id": "6a00237f-163f-42bd-b3a2-1378fba8ebd5",
   "metadata": {},
   "outputs": [
    {
     "name": "stdout",
     "output_type": "stream",
     "text": [
      "+-----------------+------------------------+\n",
      "|   He Mass Frac  |   0.6520727055060169   |\n",
      "| Solar Mass Frac |  0.27115213859346066   |\n",
      "|   He Mass (g)   | 1.0102374472440139e+33 |\n",
      "|  He Mass (Msun) |   0.5080629814462548   |\n",
      "+-----------------+------------------------+\n"
     ]
    }
   ],
   "source": [
    "he = pt()\n",
    "he.header = False\n",
    "he.add_row(['He Mass Frac', np.sum(den*abund[:,2])/np.sum(den)])\n",
    "he.add_row(['Solar Mass Frac', s.X('He')])\n",
    "he.add_row(['He Mass (g)', np.sum(den*abund[:,2]*(np.max(model[:,1])*2/100)**3)])\n",
    "he.add_row(['He Mass (Msun)', np.sum(den*abund[:,2]*(np.max(model[:,1])*2/100)**3)/const.M_sun.cgs.value])\n",
    "print(he)"
   ]
  },
  {
   "cell_type": "code",
   "execution_count": 6,
   "id": "6cc97d7c-1358-4674-b3df-47ac02a8f792",
   "metadata": {},
   "outputs": [
    {
     "name": "stdout",
     "output_type": "stream",
     "text": [
      "C Mass Frac     =  0.08805700839553268\n",
      "Solar Mass Frac =  0.0025417173237086595\n",
      "C Mass (g)      =  1.364241849448593e+32\n",
      "C Mass (Msun)   =  0.0686096900620224\n"
     ]
    }
   ],
   "source": [
    "print('C Mass Frac     = ', np.sum(den*abund[:,6])/np.sum(den))\n",
    "print('Solar Mass Frac = ', s.X('C'))\n",
    "print('C Mass (g)      = ', np.sum(den*abund[:,6]*(np.max(model[:,1])*2/100)**3))\n",
    "print('C Mass (Msun)   = ', np.sum(den*abund[:,6]*(np.max(model[:,1])*2/100)**3)/const.M_sun.cgs.value)"
   ]
  },
  {
   "cell_type": "code",
   "execution_count": 7,
   "id": "c2c7c92c-2aac-4efe-a0b5-57aa4d0ee17f",
   "metadata": {},
   "outputs": [
    {
     "name": "stdout",
     "output_type": "stream",
     "text": [
      "Mg Mass Frac    =  0.025483508187959296\n",
      "Solar Mass Frac =  0.0006429799318887962\n",
      "Mg Mass (g)     =  3.948086469690211e+31\n",
      "Mg Mass (Msun)  =  0.019855496232797296\n"
     ]
    }
   ],
   "source": [
    "print('Mg Mass Frac    = ', np.sum(den*abund[:,12]/np.sum(den)))\n",
    "print('Solar Mass Frac = ', s.X('Mg'))\n",
    "print('Mg Mass (g)     = ', np.sum(den*abund[:,12]*(np.max(model[:,1])*2/100)**3))\n",
    "print('Mg Mass (Msun)  = ', np.sum(den*abund[:,12]*(np.max(model[:,1])*2/100)**3)/const.M_sun.cgs.value)"
   ]
  },
  {
   "cell_type": "code",
   "execution_count": 8,
   "id": "47ff705d-47f8-4635-a655-771ed9cc5790",
   "metadata": {},
   "outputs": [
    {
     "name": "stdout",
     "output_type": "stream",
     "text": [
      "Si Mass Frac    =  0.011984908641538108\n",
      "Solar Mass Frac =  0.0006995393590921056\n",
      "Si Mass (g)     =  1.8567873504357956e+31\n",
      "Si Mass (Msun)  =  0.009338051363544842\n"
     ]
    }
   ],
   "source": [
    "print('Si Mass Frac    = ', np.sum(den*abund[:,14]/np.sum(den)))\n",
    "print('Solar Mass Frac = ', s.X('Si'))\n",
    "print('Si Mass (g)     = ', np.sum(den*abund[:,14]*(np.max(model[:,1])*2/100)**3))\n",
    "print('Si Mass (Msun)  = ', np.sum(den*abund[:,14]*(np.max(model[:,1])*2/100)**3)/const.M_sun.cgs.value)"
   ]
  },
  {
   "cell_type": "code",
   "execution_count": 14,
   "id": "68cdf6fd-220b-455b-a28b-9addf40fe434",
   "metadata": {},
   "outputs": [
    {
     "name": "stdout",
     "output_type": "stream",
     "text": [
      "Cr Mass Frac    =  7.096852487371853e-05\n",
      "Solar Mass Frac =  1.7552113735406415e-05\n",
      "Solar Mass Frac =  2.2469132861629346e-06\n",
      "Ratio Model/Sun =  0.11022570068665812\n",
      "Cr Mass (g)     =  1.0994948998434534e+29\n",
      "Cr Mass (Msun)  =  5.529518415926314e-05\n"
     ]
    }
   ],
   "source": [
    "print('Cr Mass Frac    = ', np.sum(den*abund[:,24]/np.sum(den)))\n",
    "print('Solar Mass Frac = ', s.X('Cr'))\n",
    "print('Solar Mass Frac = ', s.X('Ti48'))\n",
    "print('Ratio Model/Sun = ', np.sum(abund[:,24]/(100**3))/s.X('Ti48'))\n",
    "print('Cr Mass (g)     = ', np.sum(den*abund[:,24]*(np.max(model[:,1])*2/100)**3))\n",
    "print('Cr Mass (Msun)  = ', np.sum(den*abund[:,24]*(np.max(model[:,1])*2/100)**3)/const.M_sun.cgs.value)"
   ]
  },
  {
   "cell_type": "code",
   "execution_count": 10,
   "id": "18cd4235-63ce-49cd-be9d-0ebbc36b491b",
   "metadata": {},
   "outputs": [
    {
     "name": "stdout",
     "output_type": "stream",
     "text": [
      "Ca Mass Frac    =  0.00015441648415956982\n",
      "Solar Mass Frac =  6.124966583364997e-05\n",
      "Ca Mass (g)     =  2.3923300799518005e+29\n",
      "Ca Mass (Msun)  =  0.00012031372984041511\n"
     ]
    }
   ],
   "source": [
    "print('Ca Mass Frac    = ', np.sum(den*abund[:,20]/np.sum(den)))\n",
    "print('Solar Mass Frac = ', s.X('Ca'))\n",
    "print('Ca Mass (g)     = ', np.sum(den*abund[:,20]*(np.max(model[:,1])*2/100)**3))\n",
    "print('Ca Mass (Msun)  = ', np.sum(den*abund[:,20]*(np.max(model[:,1])*2/100)**3)/const.M_sun.cgs.value)"
   ]
  },
  {
   "cell_type": "code",
   "execution_count": 11,
   "id": "aba6f147-55e6-4f1a-b54f-cb9f6c605574",
   "metadata": {},
   "outputs": [
    {
     "name": "stdout",
     "output_type": "stream",
     "text": [
      "O Mass Frac     =  0.11573663579769845\n",
      "Solar Mass Frac =  0.006108677961990509\n",
      "O Mass (g)      =  1.7930743383921343e+32\n",
      "O Mass (Msun)   =  0.09017629437549804\n"
     ]
    }
   ],
   "source": [
    "print('O Mass Frac     = ', np.sum(den*abund[:,8]/np.sum(den)))\n",
    "print('Solar Mass Frac = ', s.X('O'))\n",
    "print('O Mass (g)      = ', np.sum(den*abund[:,8]*(np.max(model[:,1])*2/100)**3))\n",
    "print('O Mass (Msun)   = ', np.sum(den*abund[:,8]*(np.max(model[:,1])*2/100)**3)/const.M_sun.cgs.value)"
   ]
  },
  {
   "cell_type": "code",
   "execution_count": null,
   "id": "f9847783-7bf0-4194-8cda-9d6bd6c23f81",
   "metadata": {},
   "outputs": [],
   "source": []
  }
 ],
 "metadata": {
  "kernelspec": {
   "display_name": "Python 3",
   "language": "python",
   "name": "python3"
  },
  "language_info": {
   "codemirror_mode": {
    "name": "ipython",
    "version": 3
   },
   "file_extension": ".py",
   "mimetype": "text/x-python",
   "name": "python",
   "nbconvert_exporter": "python",
   "pygments_lexer": "ipython3",
   "version": "3.8.5"
  }
 },
 "nbformat": 4,
 "nbformat_minor": 5
}
