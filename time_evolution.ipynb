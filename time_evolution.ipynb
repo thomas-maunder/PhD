{
 "cells": [
  {
   "cell_type": "code",
   "execution_count": 25,
   "id": "94593865-4c9c-45fe-a714-7fa866c57905",
   "metadata": {},
   "outputs": [],
   "source": [
    "import os\n",
    "\n",
    "import matplotlib.pyplot as plt\n",
    "import numpy as np"
   ]
  },
  {
   "cell_type": "code",
   "execution_count": 26,
   "id": "32e603d4-29ba-4361-8dd2-8de364c2ca26",
   "metadata": {},
   "outputs": [],
   "source": [
    "def load_data(searchdir):\n",
    "    res = []\n",
    "    files = []\n",
    "    for file in os.listdir(searchdir):\n",
    "        files.append(searchdir + file)\n",
    "    fs = sorted(files)\n",
    "    print(len(fs))\n",
    "    for f in fs:\n",
    "        if \".txt\" not in f:\n",
    "            None\n",
    "        else:\n",
    "            res.append(np.loadtxt(f, skiprows=1, delimiter=\",\"))\n",
    "    return res, fs"
   ]
  },
  {
   "cell_type": "code",
   "execution_count": 80,
   "id": "609baa56-610a-446f-a88e-998dabc0f8e8",
   "metadata": {},
   "outputs": [
    {
     "name": "stdout",
     "output_type": "stream",
     "text": [
      "63\n"
     ]
    }
   ],
   "source": [
    "d, f = load_data('Ca_II/')\n",
    "d = np.array(d)\n",
    "# d.shape\n",
    "# print(f[-1][-13:-10])"
   ]
  },
  {
   "cell_type": "code",
   "execution_count": 87,
   "id": "03e7a826-a944-4857-88d1-9861a6c04f3d",
   "metadata": {},
   "outputs": [
    {
     "data": {
      "text/plain": [
       "<matplotlib.colorbar.Colorbar at 0x7fe7b6a2f5b0>"
      ]
     },
     "execution_count": 87,
     "metadata": {},
     "output_type": "execute_result"
    },
    {
     "data": {
      "image/png": "[encoded data removed]",
      "text/plain": [
       "<Figure size 432x288 with 2 Axes>"
      ]
     },
     "metadata": {
      "needs_background": "light"
     },
     "output_type": "display_data"
    }
   ],
   "source": [
    "# scale = 1e14\n",
    "times = np.linspace(2, int(f[-1][-13:-10]), len(d[:, 0, 0]))\n",
    "# times = np.linspace(2, 92, len(d[:, 0, 0]))\n",
    "wlengths = d[0, :, 0]\n",
    "T, L = np.meshgrid(times, wlengths)\n",
    "# plt.xlim(2,60)\n",
    "plt.ylim(2000,11000)\n",
    "plt.contourf(T, L, d[:, :, 1].T * scale, 100, cmap=\"binary\")\n",
    "plt.colorbar()"
   ]
  },
  {
   "cell_type": "code",
   "execution_count": null,
   "id": "d99f7a74-c7a5-4153-bebe-34d22bcabe66",
   "metadata": {},
   "outputs": [],
   "source": []
  }
 ],
 "metadata": {
  "kernelspec": {
   "display_name": "Python 3",
   "language": "python",
   "name": "python3"
  },
  "language_info": {
   "codemirror_mode": {
    "name": "ipython",
    "version": 3
   },
   "file_extension": ".py",
   "mimetype": "text/x-python",
   "name": "python",
   "nbconvert_exporter": "python",
   "pygments_lexer": "ipython3",
   "version": "3.8.5"
  }
 },
 "nbformat": 4,
 "nbformat_minor": 5
}
