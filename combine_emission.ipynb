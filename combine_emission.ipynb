{
 "cells": [
  {
   "cell_type": "code",
   "execution_count": 29,
   "id": "a114c611-8169-4337-937c-bbaaf6eef7ba",
   "metadata": {},
   "outputs": [],
   "source": [
    "import matplotlib.pyplot as plt\n",
    "import numpy as np\n",
    "import os"
   ]
  },
  {
   "cell_type": "code",
   "execution_count": 13,
   "id": "e91bbc42-73a8-4441-ac7a-c48a18bf2c1a",
   "metadata": {},
   "outputs": [],
   "source": [
    "header1 = np.loadtxt('list1/plotspecemission_002d_002d.txt', max_rows=1, delimiter=',', dtype=str)\n",
    "d1 = np.loadtxt('list1/plotspecemission_002d_002d.txt', skiprows=1, delimiter=',')"
   ]
  },
  {
   "cell_type": "code",
   "execution_count": 18,
   "id": "b02f7729-6b5b-474a-8c6a-d08648885f98",
   "metadata": {},
   "outputs": [],
   "source": [
    "header2 = np.loadtxt('list2/plotspecemission_002d_002d.txt', max_rows=1, delimiter=',', dtype=str)\n",
    "d2 = np.loadtxt('list2/plotspecemission_002d_002d.txt', skiprows=1, delimiter=',')"
   ]
  },
  {
   "cell_type": "code",
   "execution_count": 71,
   "id": "227ea939-eab2-444f-8085-0c51b5f5af32",
   "metadata": {},
   "outputs": [
    {
     "data": {
      "text/plain": [
       "array(['lambda_angstroms', 'emission_flambda.He I',\n",
       "       'absorption_flambda.He I', 'emission_flambda.He II',\n",
       "       'absorption_flambda.He II', 'emission_flambda.He III',\n",
       "       'absorption_flambda.He III', 'emission_flambda.C I',\n",
       "       'absorption_flambda.C I', 'emission_flambda.C II',\n",
       "       'absorption_flambda.C II', 'emission_flambda.C III',\n",
       "       'absorption_flambda.C III', 'emission_flambda.C IV',\n",
       "       'absorption_flambda.C IV', 'emission_flambda.C V',\n",
       "       'absorption_flambda.C V', 'emission_flambda.N I',\n",
       "       'absorption_flambda.N I', 'emission_flambda.N II',\n",
       "       'absorption_flambda.N II', 'emission_flambda.N III',\n",
       "       'absorption_flambda.N III', 'emission_flambda.N IV',\n",
       "       'absorption_flambda.N IV', 'emission_flambda.N V',\n",
       "       'absorption_flambda.N V', 'emission_flambda.O I',\n",
       "       'absorption_flambda.O I', 'emission_flambda.O II',\n",
       "       'absorption_flambda.O II', 'emission_flambda.O III',\n",
       "       'absorption_flambda.O III', 'emission_flambda.F I',\n",
       "       'absorption_flambda.F I', 'emission_flambda.F II',\n",
       "       'absorption_flambda.F II', 'emission_flambda.F III',\n",
       "       'absorption_flambda.F III', 'emission_flambda.F IV',\n",
       "       'absorption_flambda.F IV', 'emission_flambda.F V',\n",
       "       'absorption_flambda.F V', 'emission_flambda.Ne I',\n",
       "       'absorption_flambda.Ne I', 'emission_flambda.Ne II',\n",
       "       'absorption_flambda.Ne II', 'emission_flambda.Ne III',\n",
       "       'absorption_flambda.Ne III', 'emission_flambda.Ne IV',\n",
       "       'absorption_flambda.Ne IV', 'emission_flambda.Ne V',\n",
       "       'absorption_flambda.Ne V'], dtype='<U25')"
      ]
     },
     "execution_count": 71,
     "metadata": {},
     "output_type": "execute_result"
    }
   ],
   "source": [
    "h = np.concatenate((header1[:-2], header2[1:-2]))\n",
    "h"
   ]
  },
  {
   "cell_type": "code",
   "execution_count": 46,
   "id": "64cd7287-dd2c-405d-895d-5e6ac6932156",
   "metadata": {},
   "outputs": [],
   "source": [
    "files = []\n",
    "for filename in os.listdir('list1/'):\n",
    "    if filename[-1] == 't':\n",
    "        files.append(filename)\n",
    "files = np.sort(files).tolist()"
   ]
  },
  {
   "cell_type": "code",
   "execution_count": 81,
   "id": "1acf2c8f-a01d-4dbd-8b3d-ddf66bdb0284",
   "metadata": {},
   "outputs": [
    {
     "data": {
      "text/plain": [
       "'plotspecemission_002d_002d.txt'"
      ]
     },
     "execution_count": 81,
     "metadata": {},
     "output_type": "execute_result"
    }
   ],
   "source": [
    "files[0]"
   ]
  },
  {
   "cell_type": "code",
   "execution_count": 48,
   "id": "85789701-df0e-47e6-be22-edc39ca4cdf7",
   "metadata": {},
   "outputs": [],
   "source": [
    "lists = ['list1', 'list2', 'list3', 'list4', 'list5', 'list6', 'list7', 'list8', 'list9']"
   ]
  },
  {
   "cell_type": "code",
   "execution_count": 76,
   "id": "195a5e32-f327-4c9e-a7c0-59b04cf4dc1f",
   "metadata": {},
   "outputs": [
    {
     "data": {
      "text/plain": [
       "array([[29920.60142121,     0.        ,     0.        , ...,\n",
       "            0.        ,     0.        ,     0.        ],\n",
       "       [29803.70199525,     0.        ,     0.        , ...,\n",
       "            0.        ,     0.        ,     0.        ],\n",
       "       [29687.41847638,     0.        ,     0.        , ...,\n",
       "            0.        ,     0.        ,     0.        ],\n",
       "       ...,\n",
       "       [  605.47619942,     0.        ,     0.        , ...,\n",
       "            0.        ,     0.        ,     0.        ],\n",
       "       [  603.11191448,     0.        ,     0.        , ...,\n",
       "            0.        ,     0.        ,     0.        ],\n",
       "       [  600.75759483,     0.        ,     0.        , ...,\n",
       "            0.        ,     0.        ,     0.        ]])"
      ]
     },
     "execution_count": 76,
     "metadata": {},
     "output_type": "execute_result"
    }
   ],
   "source": [
    "np.concatenate((d1[:,:-2],d2[:,1:-2]), axis=1)"
   ]
  },
  {
   "cell_type": "code",
   "execution_count": 89,
   "id": "486f8357-db34-4379-98ec-14d1e9f37e6e",
   "metadata": {},
   "outputs": [],
   "source": [
    "for f in files:\n",
    "    d1 = np.loadtxt('list1/' + f, skiprows=1, delimiter=',')\n",
    "    d2 = np.loadtxt('list2/' + f, skiprows=1, delimiter=',')\n",
    "    d3 = np.loadtxt('list3/' + f, skiprows=1, delimiter=',')\n",
    "    d4 = np.loadtxt('list4/' + f, skiprows=1, delimiter=',')\n",
    "    d5 = np.loadtxt('list5/' + f, skiprows=1, delimiter=',')\n",
    "    d6 = np.loadtxt('list6/' + f, skiprows=1, delimiter=',')\n",
    "    d7 = np.loadtxt('list7/' + f, skiprows=1, delimiter=',')\n",
    "    d8 = np.loadtxt('list8/' + f, skiprows=1, delimiter=',')\n",
    "    d9 = np.loadtxt('list9/' + f, skiprows=1, delimiter=',')\n",
    "    res = np.concatenate((d1[:,:-2], d2[:,1:-2], d3[:,1:-2], d4[:,1:-2], d5[:,1:-2], d6[:,1:-2], d7[:,1:-2], d8[:,1:-2], d9[:,1:-2]), axis=1)\n",
    "    np.savetxt('lists_combined/' + f, res)"
   ]
  },
  {
   "cell_type": "code",
   "execution_count": null,
   "id": "4edb6c2c-78e2-4a38-b46a-a67822b01605",
   "metadata": {},
   "outputs": [],
   "source": []
  }
 ],
 "metadata": {
  "kernelspec": {
   "display_name": "Python 3",
   "language": "python",
   "name": "python3"
  },
  "language_info": {
   "codemirror_mode": {
    "name": "ipython",
    "version": 3
   },
   "file_extension": ".py",
   "mimetype": "text/x-python",
   "name": "python",
   "nbconvert_exporter": "python",
   "pygments_lexer": "ipython3",
   "version": "3.8.10"
  }
 },
 "nbformat": 4,
 "nbformat_minor": 5
}
